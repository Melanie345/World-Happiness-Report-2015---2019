{
 "cells": [
  {
   "cell_type": "markdown",
   "id": "b3068083-3a1e-4d29-bf1a-53aa98159436",
   "metadata": {},
   "source": [
    "## World Happiness Report"
   ]
  },
  {
   "cell_type": "markdown",
   "id": "b1d638b8-7cfe-49fe-8356-468e041fb306",
   "metadata": {},
   "source": [
    "## Basic cleaning & consistency checks for files 2015 to 2019"
   ]
  },
  {
   "cell_type": "markdown",
   "id": "686cc16a-6715-4e85-824f-e7f5edafb701",
   "metadata": {},
   "source": [
    "### 01 Importing Libraries"
   ]
  },
  {
   "cell_type": "code",
   "execution_count": 4,
   "id": "5cf0c001-82ad-4dbf-9f58-041723e386a3",
   "metadata": {},
   "outputs": [],
   "source": [
    "#Import libraries\n",
    "import pandas as pd\n",
    "import numpy as np\n",
    "import os"
   ]
  },
  {
   "cell_type": "code",
   "execution_count": 5,
   "id": "0c6d591a-aaaa-4fda-94fa-d291bc69b006",
   "metadata": {},
   "outputs": [],
   "source": [
    "#turn folder into a string\n",
    "path = r'C:\\Users\\melan\\OneDrive\\Career Foundry\\World Happiness Report'"
   ]
  },
  {
   "cell_type": "code",
   "execution_count": 6,
   "id": "9adfcdea-37b3-483b-9134-01bbb94e4b7c",
   "metadata": {},
   "outputs": [
    {
     "data": {
      "text/plain": [
       "'C:\\\\Users\\\\melan\\\\OneDrive\\\\Career Foundry\\\\World Happiness Report'"
      ]
     },
     "execution_count": 6,
     "metadata": {},
     "output_type": "execute_result"
    }
   ],
   "source": [
    "path"
   ]
  },
  {
   "cell_type": "markdown",
   "id": "16c42784-8e50-4b4f-9e3b-0a856d28f6f8",
   "metadata": {},
   "source": [
    "## Import 2015 data"
   ]
  },
  {
   "cell_type": "code",
   "execution_count": 8,
   "id": "f2b201f5-f1be-4476-b920-60d4dcb7b7e8",
   "metadata": {},
   "outputs": [],
   "source": [
    "# Import dataframe of 2015 from Original Data\n",
    "df_2015 = pd.read_csv(os.path.join(path, '02 Data', 'Original Data', '2015.csv'))"
   ]
  },
  {
   "cell_type": "code",
   "execution_count": 9,
   "id": "4de75b6f-6410-49b9-b9c1-f89d77ecbb20",
   "metadata": {},
   "outputs": [
    {
     "data": {
      "text/html": [
       "<div>\n",
       "<style scoped>\n",
       "    .dataframe tbody tr th:only-of-type {\n",
       "        vertical-align: middle;\n",
       "    }\n",
       "\n",
       "    .dataframe tbody tr th {\n",
       "        vertical-align: top;\n",
       "    }\n",
       "\n",
       "    .dataframe thead th {\n",
       "        text-align: right;\n",
       "    }\n",
       "</style>\n",
       "<table border=\"1\" class=\"dataframe\">\n",
       "  <thead>\n",
       "    <tr style=\"text-align: right;\">\n",
       "      <th></th>\n",
       "      <th>Country</th>\n",
       "      <th>Region</th>\n",
       "      <th>Happiness Rank</th>\n",
       "      <th>Happiness Score</th>\n",
       "      <th>Standard Error</th>\n",
       "      <th>Economy (GDP per Capita)</th>\n",
       "      <th>Family</th>\n",
       "      <th>Health (Life Expectancy)</th>\n",
       "      <th>Freedom</th>\n",
       "      <th>Trust (Government Corruption)</th>\n",
       "      <th>Generosity</th>\n",
       "      <th>Dystopia Residual</th>\n",
       "    </tr>\n",
       "  </thead>\n",
       "  <tbody>\n",
       "    <tr>\n",
       "      <th>0</th>\n",
       "      <td>Switzerland</td>\n",
       "      <td>Western Europe</td>\n",
       "      <td>1</td>\n",
       "      <td>7.587</td>\n",
       "      <td>0.03411</td>\n",
       "      <td>1.39651</td>\n",
       "      <td>1.34951</td>\n",
       "      <td>0.94143</td>\n",
       "      <td>0.66557</td>\n",
       "      <td>0.41978</td>\n",
       "      <td>0.29678</td>\n",
       "      <td>2.51738</td>\n",
       "    </tr>\n",
       "    <tr>\n",
       "      <th>1</th>\n",
       "      <td>Iceland</td>\n",
       "      <td>Western Europe</td>\n",
       "      <td>2</td>\n",
       "      <td>7.561</td>\n",
       "      <td>0.04884</td>\n",
       "      <td>1.30232</td>\n",
       "      <td>1.40223</td>\n",
       "      <td>0.94784</td>\n",
       "      <td>0.62877</td>\n",
       "      <td>0.14145</td>\n",
       "      <td>0.43630</td>\n",
       "      <td>2.70201</td>\n",
       "    </tr>\n",
       "    <tr>\n",
       "      <th>2</th>\n",
       "      <td>Denmark</td>\n",
       "      <td>Western Europe</td>\n",
       "      <td>3</td>\n",
       "      <td>7.527</td>\n",
       "      <td>0.03328</td>\n",
       "      <td>1.32548</td>\n",
       "      <td>1.36058</td>\n",
       "      <td>0.87464</td>\n",
       "      <td>0.64938</td>\n",
       "      <td>0.48357</td>\n",
       "      <td>0.34139</td>\n",
       "      <td>2.49204</td>\n",
       "    </tr>\n",
       "    <tr>\n",
       "      <th>3</th>\n",
       "      <td>Norway</td>\n",
       "      <td>Western Europe</td>\n",
       "      <td>4</td>\n",
       "      <td>7.522</td>\n",
       "      <td>0.03880</td>\n",
       "      <td>1.45900</td>\n",
       "      <td>1.33095</td>\n",
       "      <td>0.88521</td>\n",
       "      <td>0.66973</td>\n",
       "      <td>0.36503</td>\n",
       "      <td>0.34699</td>\n",
       "      <td>2.46531</td>\n",
       "    </tr>\n",
       "    <tr>\n",
       "      <th>4</th>\n",
       "      <td>Canada</td>\n",
       "      <td>North America</td>\n",
       "      <td>5</td>\n",
       "      <td>7.427</td>\n",
       "      <td>0.03553</td>\n",
       "      <td>1.32629</td>\n",
       "      <td>1.32261</td>\n",
       "      <td>0.90563</td>\n",
       "      <td>0.63297</td>\n",
       "      <td>0.32957</td>\n",
       "      <td>0.45811</td>\n",
       "      <td>2.45176</td>\n",
       "    </tr>\n",
       "  </tbody>\n",
       "</table>\n",
       "</div>"
      ],
      "text/plain": [
       "       Country          Region  Happiness Rank  Happiness Score  \\\n",
       "0  Switzerland  Western Europe               1            7.587   \n",
       "1      Iceland  Western Europe               2            7.561   \n",
       "2      Denmark  Western Europe               3            7.527   \n",
       "3       Norway  Western Europe               4            7.522   \n",
       "4       Canada   North America               5            7.427   \n",
       "\n",
       "   Standard Error  Economy (GDP per Capita)   Family  \\\n",
       "0         0.03411                   1.39651  1.34951   \n",
       "1         0.04884                   1.30232  1.40223   \n",
       "2         0.03328                   1.32548  1.36058   \n",
       "3         0.03880                   1.45900  1.33095   \n",
       "4         0.03553                   1.32629  1.32261   \n",
       "\n",
       "   Health (Life Expectancy)  Freedom  Trust (Government Corruption)  \\\n",
       "0                   0.94143  0.66557                        0.41978   \n",
       "1                   0.94784  0.62877                        0.14145   \n",
       "2                   0.87464  0.64938                        0.48357   \n",
       "3                   0.88521  0.66973                        0.36503   \n",
       "4                   0.90563  0.63297                        0.32957   \n",
       "\n",
       "   Generosity  Dystopia Residual  \n",
       "0     0.29678            2.51738  \n",
       "1     0.43630            2.70201  \n",
       "2     0.34139            2.49204  \n",
       "3     0.34699            2.46531  \n",
       "4     0.45811            2.45176  "
      ]
     },
     "execution_count": 9,
     "metadata": {},
     "output_type": "execute_result"
    }
   ],
   "source": [
    "#first 5 rows\n",
    "df_2015.head()"
   ]
  },
  {
   "cell_type": "code",
   "execution_count": 10,
   "id": "7718c64f-d18d-4fde-a004-9782dcc3ef5f",
   "metadata": {},
   "outputs": [
    {
     "data": {
      "text/plain": [
       "Country                          0\n",
       "Region                           0\n",
       "Happiness Rank                   0\n",
       "Happiness Score                  0\n",
       "Standard Error                   0\n",
       "Economy (GDP per Capita)         0\n",
       "Family                           0\n",
       "Health (Life Expectancy)         0\n",
       "Freedom                          0\n",
       "Trust (Government Corruption)    0\n",
       "Generosity                       0\n",
       "Dystopia Residual                0\n",
       "dtype: int64"
      ]
     },
     "execution_count": 10,
     "metadata": {},
     "output_type": "execute_result"
    }
   ],
   "source": [
    "#check for missing values\n",
    "df_2015.isnull().sum()"
   ]
  },
  {
   "cell_type": "code",
   "execution_count": 11,
   "id": "afa94884-c9ad-48f9-a26a-f0adaa10ee9b",
   "metadata": {},
   "outputs": [
    {
     "data": {
      "text/plain": [
       "(158, 12)"
      ]
     },
     "execution_count": 11,
     "metadata": {},
     "output_type": "execute_result"
    }
   ],
   "source": [
    "#there are no missing values\n",
    "df_2015.shape"
   ]
  },
  {
   "cell_type": "code",
   "execution_count": 12,
   "id": "1d4d2106-6cdb-4369-934a-cead6e602005",
   "metadata": {},
   "outputs": [
    {
     "name": "stdout",
     "output_type": "stream",
     "text": [
      "Number of duplicate rows:  0\n"
     ]
    }
   ],
   "source": [
    "#158 rows and 12 columns, we can see all 12 columns, no need to list them\n",
    "#All column names are consistent and well labeled\n",
    "#checking for duplicates\n",
    "duplicates = df_2015.duplicated()\n",
    "print(\"Number of duplicate rows: \", duplicates.sum())"
   ]
  },
  {
   "cell_type": "code",
   "execution_count": 13,
   "id": "09ffbeab-1d53-4212-8b56-a8bf06768c87",
   "metadata": {},
   "outputs": [
    {
     "data": {
      "text/plain": [
       "Country                           object\n",
       "Region                            object\n",
       "Happiness Rank                     int64\n",
       "Happiness Score                  float64\n",
       "Standard Error                   float64\n",
       "Economy (GDP per Capita)         float64\n",
       "Family                           float64\n",
       "Health (Life Expectancy)         float64\n",
       "Freedom                          float64\n",
       "Trust (Government Corruption)    float64\n",
       "Generosity                       float64\n",
       "Dystopia Residual                float64\n",
       "dtype: object"
      ]
     },
     "execution_count": 13,
     "metadata": {},
     "output_type": "execute_result"
    }
   ],
   "source": [
    "#check for datatypes\n",
    "df_2015.dtypes"
   ]
  },
  {
   "cell_type": "code",
   "execution_count": 14,
   "id": "ed38ef66-87f3-450f-b6bb-3cb447283c94",
   "metadata": {},
   "outputs": [],
   "source": [
    "#checking for mixed column types\n",
    "for col in df_2015.columns.tolist():\n",
    "    weird = (df_2015[[col]].map(type) !=df_2015[[col]].iloc[0].apply(type)).any(axis = 1)\n",
    "    if len (df_2015[weird]) > 0:\n",
    "        print(f\"Column {col} has mixed types\")\n",
    "    "
   ]
  },
  {
   "cell_type": "code",
   "execution_count": 15,
   "id": "3ca85a6c-9d61-4b5f-9009-e021dd518c0e",
   "metadata": {},
   "outputs": [],
   "source": [
    "#There are no mixed column types\n",
    "#checking to see if there are outliers "
   ]
  },
  {
   "cell_type": "code",
   "execution_count": 16,
   "id": "cf1306ee-427c-413b-99f7-958488e6ce93",
   "metadata": {},
   "outputs": [],
   "source": [
    "# Function to detect outliers\n",
    "def detect_outliers(df_2015):\n",
    "    outliers = pd.df_2015()\n",
    "    for col in df.select_dtypes(include=[float, int]).columns:\n",
    "        Q1 = df[col].quantile(0.25)\n",
    "        Q3 = df[col].quantile(0.75)\n",
    "        IQR = Q3 - Q1\n",
    "        lower_bound = Q1 - 1.5 * IQR\n",
    "        upper_bound = Q3 + 1.5 * IQR\n",
    "        col_outliers = df[(df[col] < lower_bound) | (df[col] > upper_bound)]\n",
    "        if not col_outliers.empty:\n",
    "            outliers = outliers.append(col_outliers)\n",
    "            print(f\"Outliers detected in column {col}:\")\n",
    "            print(col_outliers)\n",
    "    return outliers"
   ]
  },
  {
   "cell_type": "code",
   "execution_count": 17,
   "id": "859027bc-98ef-4f21-aad5-373cbfc13020",
   "metadata": {},
   "outputs": [
    {
     "data": {
      "text/html": [
       "<div>\n",
       "<style scoped>\n",
       "    .dataframe tbody tr th:only-of-type {\n",
       "        vertical-align: middle;\n",
       "    }\n",
       "\n",
       "    .dataframe tbody tr th {\n",
       "        vertical-align: top;\n",
       "    }\n",
       "\n",
       "    .dataframe thead th {\n",
       "        text-align: right;\n",
       "    }\n",
       "</style>\n",
       "<table border=\"1\" class=\"dataframe\">\n",
       "  <thead>\n",
       "    <tr style=\"text-align: right;\">\n",
       "      <th></th>\n",
       "      <th>Happiness Rank</th>\n",
       "      <th>Happiness Score</th>\n",
       "      <th>Standard Error</th>\n",
       "      <th>Economy (GDP per Capita)</th>\n",
       "      <th>Family</th>\n",
       "      <th>Health (Life Expectancy)</th>\n",
       "      <th>Freedom</th>\n",
       "      <th>Trust (Government Corruption)</th>\n",
       "      <th>Generosity</th>\n",
       "      <th>Dystopia Residual</th>\n",
       "    </tr>\n",
       "  </thead>\n",
       "  <tbody>\n",
       "    <tr>\n",
       "      <th>count</th>\n",
       "      <td>158.000000</td>\n",
       "      <td>158.000000</td>\n",
       "      <td>158.000000</td>\n",
       "      <td>158.000000</td>\n",
       "      <td>158.000000</td>\n",
       "      <td>158.000000</td>\n",
       "      <td>158.000000</td>\n",
       "      <td>158.000000</td>\n",
       "      <td>158.000000</td>\n",
       "      <td>158.000000</td>\n",
       "    </tr>\n",
       "    <tr>\n",
       "      <th>mean</th>\n",
       "      <td>79.493671</td>\n",
       "      <td>5.375734</td>\n",
       "      <td>0.047885</td>\n",
       "      <td>0.846137</td>\n",
       "      <td>0.991046</td>\n",
       "      <td>0.630259</td>\n",
       "      <td>0.428615</td>\n",
       "      <td>0.143422</td>\n",
       "      <td>0.237296</td>\n",
       "      <td>2.098977</td>\n",
       "    </tr>\n",
       "    <tr>\n",
       "      <th>std</th>\n",
       "      <td>45.754363</td>\n",
       "      <td>1.145010</td>\n",
       "      <td>0.017146</td>\n",
       "      <td>0.403121</td>\n",
       "      <td>0.272369</td>\n",
       "      <td>0.247078</td>\n",
       "      <td>0.150693</td>\n",
       "      <td>0.120034</td>\n",
       "      <td>0.126685</td>\n",
       "      <td>0.553550</td>\n",
       "    </tr>\n",
       "    <tr>\n",
       "      <th>min</th>\n",
       "      <td>1.000000</td>\n",
       "      <td>2.839000</td>\n",
       "      <td>0.018480</td>\n",
       "      <td>0.000000</td>\n",
       "      <td>0.000000</td>\n",
       "      <td>0.000000</td>\n",
       "      <td>0.000000</td>\n",
       "      <td>0.000000</td>\n",
       "      <td>0.000000</td>\n",
       "      <td>0.328580</td>\n",
       "    </tr>\n",
       "    <tr>\n",
       "      <th>25%</th>\n",
       "      <td>40.250000</td>\n",
       "      <td>4.526000</td>\n",
       "      <td>0.037268</td>\n",
       "      <td>0.545808</td>\n",
       "      <td>0.856823</td>\n",
       "      <td>0.439185</td>\n",
       "      <td>0.328330</td>\n",
       "      <td>0.061675</td>\n",
       "      <td>0.150553</td>\n",
       "      <td>1.759410</td>\n",
       "    </tr>\n",
       "    <tr>\n",
       "      <th>50%</th>\n",
       "      <td>79.500000</td>\n",
       "      <td>5.232500</td>\n",
       "      <td>0.043940</td>\n",
       "      <td>0.910245</td>\n",
       "      <td>1.029510</td>\n",
       "      <td>0.696705</td>\n",
       "      <td>0.435515</td>\n",
       "      <td>0.107220</td>\n",
       "      <td>0.216130</td>\n",
       "      <td>2.095415</td>\n",
       "    </tr>\n",
       "    <tr>\n",
       "      <th>75%</th>\n",
       "      <td>118.750000</td>\n",
       "      <td>6.243750</td>\n",
       "      <td>0.052300</td>\n",
       "      <td>1.158448</td>\n",
       "      <td>1.214405</td>\n",
       "      <td>0.811013</td>\n",
       "      <td>0.549092</td>\n",
       "      <td>0.180255</td>\n",
       "      <td>0.309883</td>\n",
       "      <td>2.462415</td>\n",
       "    </tr>\n",
       "    <tr>\n",
       "      <th>max</th>\n",
       "      <td>158.000000</td>\n",
       "      <td>7.587000</td>\n",
       "      <td>0.136930</td>\n",
       "      <td>1.690420</td>\n",
       "      <td>1.402230</td>\n",
       "      <td>1.025250</td>\n",
       "      <td>0.669730</td>\n",
       "      <td>0.551910</td>\n",
       "      <td>0.795880</td>\n",
       "      <td>3.602140</td>\n",
       "    </tr>\n",
       "  </tbody>\n",
       "</table>\n",
       "</div>"
      ],
      "text/plain": [
       "       Happiness Rank  Happiness Score  Standard Error  \\\n",
       "count      158.000000       158.000000      158.000000   \n",
       "mean        79.493671         5.375734        0.047885   \n",
       "std         45.754363         1.145010        0.017146   \n",
       "min          1.000000         2.839000        0.018480   \n",
       "25%         40.250000         4.526000        0.037268   \n",
       "50%         79.500000         5.232500        0.043940   \n",
       "75%        118.750000         6.243750        0.052300   \n",
       "max        158.000000         7.587000        0.136930   \n",
       "\n",
       "       Economy (GDP per Capita)      Family  Health (Life Expectancy)  \\\n",
       "count                158.000000  158.000000                158.000000   \n",
       "mean                   0.846137    0.991046                  0.630259   \n",
       "std                    0.403121    0.272369                  0.247078   \n",
       "min                    0.000000    0.000000                  0.000000   \n",
       "25%                    0.545808    0.856823                  0.439185   \n",
       "50%                    0.910245    1.029510                  0.696705   \n",
       "75%                    1.158448    1.214405                  0.811013   \n",
       "max                    1.690420    1.402230                  1.025250   \n",
       "\n",
       "          Freedom  Trust (Government Corruption)  Generosity  \\\n",
       "count  158.000000                     158.000000  158.000000   \n",
       "mean     0.428615                       0.143422    0.237296   \n",
       "std      0.150693                       0.120034    0.126685   \n",
       "min      0.000000                       0.000000    0.000000   \n",
       "25%      0.328330                       0.061675    0.150553   \n",
       "50%      0.435515                       0.107220    0.216130   \n",
       "75%      0.549092                       0.180255    0.309883   \n",
       "max      0.669730                       0.551910    0.795880   \n",
       "\n",
       "       Dystopia Residual  \n",
       "count         158.000000  \n",
       "mean            2.098977  \n",
       "std             0.553550  \n",
       "min             0.328580  \n",
       "25%             1.759410  \n",
       "50%             2.095415  \n",
       "75%             2.462415  \n",
       "max             3.602140  "
      ]
     },
     "execution_count": 17,
     "metadata": {},
     "output_type": "execute_result"
    }
   ],
   "source": [
    "#descriptive statistics\n",
    "df_2015.describe()"
   ]
  },
  {
   "cell_type": "code",
   "execution_count": 18,
   "id": "99aa8edf-e06f-44ec-8c7f-b923e3084970",
   "metadata": {},
   "outputs": [],
   "source": [
    "#rename columns to match 2018 df and 2019 df\n",
    "df_2015.rename(columns = {'Economy (GDP per Capita)': 'GDP per capita'}, inplace = True)\n",
    "df_2015.rename(columns = {'Health (Life Expectancy)': 'Healthy life expectancy'}, inplace = True)\n",
    "df_2015.rename(columns = {'Freedom': 'Freedom to make life choices'}, inplace = True)\n",
    "df_2015.rename(columns = {'Trust (Government Corruption)': 'Perceptions of corruption'}, inplace = True)"
   ]
  },
  {
   "cell_type": "code",
   "execution_count": 19,
   "id": "4af821b7-99a0-4c37-88f7-0d43044ea49c",
   "metadata": {},
   "outputs": [
    {
     "data": {
      "text/plain": [
       "Index(['Country', 'Region', 'Happiness Rank', 'Happiness Score',\n",
       "       'Standard Error', 'GDP per capita', 'Family', 'Healthy life expectancy',\n",
       "       'Freedom to make life choices', 'Perceptions of corruption',\n",
       "       'Generosity', 'Dystopia Residual'],\n",
       "      dtype='object')"
      ]
     },
     "execution_count": 19,
     "metadata": {},
     "output_type": "execute_result"
    }
   ],
   "source": [
    "#check to see the columns now\n",
    "df_2015.columns"
   ]
  },
  {
   "cell_type": "code",
   "execution_count": 20,
   "id": "30f506ab-10c0-474d-8efa-334e907dc675",
   "metadata": {},
   "outputs": [],
   "source": [
    "#Export to Prepared Data\n",
    "df_2015.to_csv(os.path.join(path, '02 Data', 'Prepared Data', 'df_2015_checked.csv'))"
   ]
  },
  {
   "cell_type": "markdown",
   "id": "8221aca1-0b89-4ebc-bad6-94ce4de2b7d4",
   "metadata": {},
   "source": [
    "## Import 2016 data"
   ]
  },
  {
   "cell_type": "code",
   "execution_count": 22,
   "id": "c712089a-5c8d-4c24-98c0-c6ec42597bf5",
   "metadata": {},
   "outputs": [],
   "source": [
    "# Import dataframe of 2016 from Original Data\n",
    "df_2016 = pd.read_csv(os.path.join(path, '02 Data', 'Original Data', '2016.csv'))"
   ]
  },
  {
   "cell_type": "code",
   "execution_count": 23,
   "id": "4747abc4-4564-4b40-adec-5c8a78ef1433",
   "metadata": {},
   "outputs": [
    {
     "data": {
      "text/html": [
       "<div>\n",
       "<style scoped>\n",
       "    .dataframe tbody tr th:only-of-type {\n",
       "        vertical-align: middle;\n",
       "    }\n",
       "\n",
       "    .dataframe tbody tr th {\n",
       "        vertical-align: top;\n",
       "    }\n",
       "\n",
       "    .dataframe thead th {\n",
       "        text-align: right;\n",
       "    }\n",
       "</style>\n",
       "<table border=\"1\" class=\"dataframe\">\n",
       "  <thead>\n",
       "    <tr style=\"text-align: right;\">\n",
       "      <th></th>\n",
       "      <th>Country</th>\n",
       "      <th>Region</th>\n",
       "      <th>Happiness Rank</th>\n",
       "      <th>Happiness Score</th>\n",
       "      <th>Lower Confidence Interval</th>\n",
       "      <th>Upper Confidence Interval</th>\n",
       "      <th>Economy (GDP per Capita)</th>\n",
       "      <th>Family</th>\n",
       "      <th>Health (Life Expectancy)</th>\n",
       "      <th>Freedom</th>\n",
       "      <th>Trust (Government Corruption)</th>\n",
       "      <th>Generosity</th>\n",
       "      <th>Dystopia Residual</th>\n",
       "    </tr>\n",
       "  </thead>\n",
       "  <tbody>\n",
       "    <tr>\n",
       "      <th>0</th>\n",
       "      <td>Denmark</td>\n",
       "      <td>Western Europe</td>\n",
       "      <td>1</td>\n",
       "      <td>7.526</td>\n",
       "      <td>7.460</td>\n",
       "      <td>7.592</td>\n",
       "      <td>1.44178</td>\n",
       "      <td>1.16374</td>\n",
       "      <td>0.79504</td>\n",
       "      <td>0.57941</td>\n",
       "      <td>0.44453</td>\n",
       "      <td>0.36171</td>\n",
       "      <td>2.73939</td>\n",
       "    </tr>\n",
       "    <tr>\n",
       "      <th>1</th>\n",
       "      <td>Switzerland</td>\n",
       "      <td>Western Europe</td>\n",
       "      <td>2</td>\n",
       "      <td>7.509</td>\n",
       "      <td>7.428</td>\n",
       "      <td>7.590</td>\n",
       "      <td>1.52733</td>\n",
       "      <td>1.14524</td>\n",
       "      <td>0.86303</td>\n",
       "      <td>0.58557</td>\n",
       "      <td>0.41203</td>\n",
       "      <td>0.28083</td>\n",
       "      <td>2.69463</td>\n",
       "    </tr>\n",
       "    <tr>\n",
       "      <th>2</th>\n",
       "      <td>Iceland</td>\n",
       "      <td>Western Europe</td>\n",
       "      <td>3</td>\n",
       "      <td>7.501</td>\n",
       "      <td>7.333</td>\n",
       "      <td>7.669</td>\n",
       "      <td>1.42666</td>\n",
       "      <td>1.18326</td>\n",
       "      <td>0.86733</td>\n",
       "      <td>0.56624</td>\n",
       "      <td>0.14975</td>\n",
       "      <td>0.47678</td>\n",
       "      <td>2.83137</td>\n",
       "    </tr>\n",
       "    <tr>\n",
       "      <th>3</th>\n",
       "      <td>Norway</td>\n",
       "      <td>Western Europe</td>\n",
       "      <td>4</td>\n",
       "      <td>7.498</td>\n",
       "      <td>7.421</td>\n",
       "      <td>7.575</td>\n",
       "      <td>1.57744</td>\n",
       "      <td>1.12690</td>\n",
       "      <td>0.79579</td>\n",
       "      <td>0.59609</td>\n",
       "      <td>0.35776</td>\n",
       "      <td>0.37895</td>\n",
       "      <td>2.66465</td>\n",
       "    </tr>\n",
       "    <tr>\n",
       "      <th>4</th>\n",
       "      <td>Finland</td>\n",
       "      <td>Western Europe</td>\n",
       "      <td>5</td>\n",
       "      <td>7.413</td>\n",
       "      <td>7.351</td>\n",
       "      <td>7.475</td>\n",
       "      <td>1.40598</td>\n",
       "      <td>1.13464</td>\n",
       "      <td>0.81091</td>\n",
       "      <td>0.57104</td>\n",
       "      <td>0.41004</td>\n",
       "      <td>0.25492</td>\n",
       "      <td>2.82596</td>\n",
       "    </tr>\n",
       "  </tbody>\n",
       "</table>\n",
       "</div>"
      ],
      "text/plain": [
       "       Country          Region  Happiness Rank  Happiness Score  \\\n",
       "0      Denmark  Western Europe               1            7.526   \n",
       "1  Switzerland  Western Europe               2            7.509   \n",
       "2      Iceland  Western Europe               3            7.501   \n",
       "3       Norway  Western Europe               4            7.498   \n",
       "4      Finland  Western Europe               5            7.413   \n",
       "\n",
       "   Lower Confidence Interval  Upper Confidence Interval  \\\n",
       "0                      7.460                      7.592   \n",
       "1                      7.428                      7.590   \n",
       "2                      7.333                      7.669   \n",
       "3                      7.421                      7.575   \n",
       "4                      7.351                      7.475   \n",
       "\n",
       "   Economy (GDP per Capita)   Family  Health (Life Expectancy)  Freedom  \\\n",
       "0                   1.44178  1.16374                   0.79504  0.57941   \n",
       "1                   1.52733  1.14524                   0.86303  0.58557   \n",
       "2                   1.42666  1.18326                   0.86733  0.56624   \n",
       "3                   1.57744  1.12690                   0.79579  0.59609   \n",
       "4                   1.40598  1.13464                   0.81091  0.57104   \n",
       "\n",
       "   Trust (Government Corruption)  Generosity  Dystopia Residual  \n",
       "0                        0.44453     0.36171            2.73939  \n",
       "1                        0.41203     0.28083            2.69463  \n",
       "2                        0.14975     0.47678            2.83137  \n",
       "3                        0.35776     0.37895            2.66465  \n",
       "4                        0.41004     0.25492            2.82596  "
      ]
     },
     "execution_count": 23,
     "metadata": {},
     "output_type": "execute_result"
    }
   ],
   "source": [
    "#first 5 rows\n",
    "df_2016.head()"
   ]
  },
  {
   "cell_type": "code",
   "execution_count": 24,
   "id": "aafb56d2-4ea5-4665-9996-986448f9e88c",
   "metadata": {},
   "outputs": [
    {
     "data": {
      "text/plain": [
       "(157, 13)"
      ]
     },
     "execution_count": 24,
     "metadata": {},
     "output_type": "execute_result"
    }
   ],
   "source": [
    "df_2016.shape"
   ]
  },
  {
   "cell_type": "code",
   "execution_count": 25,
   "id": "bdc59ecf-08bf-4b02-b05f-4d5929b9c74d",
   "metadata": {},
   "outputs": [
    {
     "data": {
      "text/plain": [
       "Country                          0\n",
       "Region                           0\n",
       "Happiness Rank                   0\n",
       "Happiness Score                  0\n",
       "Lower Confidence Interval        0\n",
       "Upper Confidence Interval        0\n",
       "Economy (GDP per Capita)         0\n",
       "Family                           0\n",
       "Health (Life Expectancy)         0\n",
       "Freedom                          0\n",
       "Trust (Government Corruption)    0\n",
       "Generosity                       0\n",
       "Dystopia Residual                0\n",
       "dtype: int64"
      ]
     },
     "execution_count": 25,
     "metadata": {},
     "output_type": "execute_result"
    }
   ],
   "source": [
    "#157 rows, 13 columns\n",
    "#check for missing values\n",
    "df_2016.isnull().sum()"
   ]
  },
  {
   "cell_type": "code",
   "execution_count": 26,
   "id": "d843cbe4-fe7b-444c-8625-4ae3b91c5b43",
   "metadata": {},
   "outputs": [
    {
     "name": "stdout",
     "output_type": "stream",
     "text": [
      "Number of duplicate rows:  0\n"
     ]
    }
   ],
   "source": [
    "#157 rows and 13 columns, we can see all 13 columns, no need to list them\n",
    "#All column names are consistent and well labeled\n",
    "#checking for duplicates\n",
    "duplicates = df_2016.duplicated()\n",
    "print(\"Number of duplicate rows: \", duplicates.sum())"
   ]
  },
  {
   "cell_type": "code",
   "execution_count": 27,
   "id": "371df9b9-89f8-48be-a19d-39ef07acf186",
   "metadata": {},
   "outputs": [
    {
     "data": {
      "text/plain": [
       "Country                           object\n",
       "Region                            object\n",
       "Happiness Rank                     int64\n",
       "Happiness Score                  float64\n",
       "Lower Confidence Interval        float64\n",
       "Upper Confidence Interval        float64\n",
       "Economy (GDP per Capita)         float64\n",
       "Family                           float64\n",
       "Health (Life Expectancy)         float64\n",
       "Freedom                          float64\n",
       "Trust (Government Corruption)    float64\n",
       "Generosity                       float64\n",
       "Dystopia Residual                float64\n",
       "dtype: object"
      ]
     },
     "execution_count": 27,
     "metadata": {},
     "output_type": "execute_result"
    }
   ],
   "source": [
    "#check for datatypes\n",
    "df_2016.dtypes"
   ]
  },
  {
   "cell_type": "code",
   "execution_count": 28,
   "id": "bd86393f-b1f1-4b54-a8b8-8d444a11322a",
   "metadata": {},
   "outputs": [],
   "source": [
    "#checking for mixed column types\n",
    "for col in df_2016.columns.tolist():\n",
    "    weird = (df_2016[[col]].map(type) !=df_2016[[col]].iloc[0].apply(type)).any(axis = 1)\n",
    "    if len (df_2016[weird]) > 0:\n",
    "        print(f\"Column {col} has mixed types\")\n",
    "    "
   ]
  },
  {
   "cell_type": "code",
   "execution_count": 29,
   "id": "c56805db-2968-438b-92d9-6221a6ef784e",
   "metadata": {},
   "outputs": [],
   "source": [
    "#There are no mixed data types\n",
    "#checking to see if there are outliers \n",
    "# Function to detect outliers\n",
    "def detect_outliers(df_2016):\n",
    "    outliers = pd.df_2016()\n",
    "    for col in df.select_dtypes(include=[float, int]).columns:\n",
    "        Q1 = df[col].quantile(0.25)\n",
    "        Q3 = df[col].quantile(0.75)\n",
    "        IQR = Q3 - Q1\n",
    "        lower_bound = Q1 - 1.5 * IQR\n",
    "        upper_bound = Q3 + 1.5 * IQR\n",
    "        col_outliers = df[(df[col] < lower_bound) | (df[col] > upper_bound)]\n",
    "        if not col_outliers.empty:\n",
    "            outliers = outliers.append(col_outliers)\n",
    "            print(f\"Outliers detected in column {col}:\")\n",
    "            print(col_outliers)\n",
    "  \n",
    "    if outliers.empty:\n",
    "        print(\"No outliers detected.\")"
   ]
  },
  {
   "cell_type": "code",
   "execution_count": 30,
   "id": "2e66583a-36d4-4671-a552-d485f91a0c9e",
   "metadata": {},
   "outputs": [
    {
     "data": {
      "text/html": [
       "<div>\n",
       "<style scoped>\n",
       "    .dataframe tbody tr th:only-of-type {\n",
       "        vertical-align: middle;\n",
       "    }\n",
       "\n",
       "    .dataframe tbody tr th {\n",
       "        vertical-align: top;\n",
       "    }\n",
       "\n",
       "    .dataframe thead th {\n",
       "        text-align: right;\n",
       "    }\n",
       "</style>\n",
       "<table border=\"1\" class=\"dataframe\">\n",
       "  <thead>\n",
       "    <tr style=\"text-align: right;\">\n",
       "      <th></th>\n",
       "      <th>Happiness Rank</th>\n",
       "      <th>Happiness Score</th>\n",
       "      <th>Lower Confidence Interval</th>\n",
       "      <th>Upper Confidence Interval</th>\n",
       "      <th>Economy (GDP per Capita)</th>\n",
       "      <th>Family</th>\n",
       "      <th>Health (Life Expectancy)</th>\n",
       "      <th>Freedom</th>\n",
       "      <th>Trust (Government Corruption)</th>\n",
       "      <th>Generosity</th>\n",
       "      <th>Dystopia Residual</th>\n",
       "    </tr>\n",
       "  </thead>\n",
       "  <tbody>\n",
       "    <tr>\n",
       "      <th>count</th>\n",
       "      <td>157.000000</td>\n",
       "      <td>157.000000</td>\n",
       "      <td>157.000000</td>\n",
       "      <td>157.000000</td>\n",
       "      <td>157.000000</td>\n",
       "      <td>157.000000</td>\n",
       "      <td>157.000000</td>\n",
       "      <td>157.000000</td>\n",
       "      <td>157.000000</td>\n",
       "      <td>157.000000</td>\n",
       "      <td>157.000000</td>\n",
       "    </tr>\n",
       "    <tr>\n",
       "      <th>mean</th>\n",
       "      <td>78.980892</td>\n",
       "      <td>5.382185</td>\n",
       "      <td>5.282395</td>\n",
       "      <td>5.481975</td>\n",
       "      <td>0.953880</td>\n",
       "      <td>0.793621</td>\n",
       "      <td>0.557619</td>\n",
       "      <td>0.370994</td>\n",
       "      <td>0.137624</td>\n",
       "      <td>0.242635</td>\n",
       "      <td>2.325807</td>\n",
       "    </tr>\n",
       "    <tr>\n",
       "      <th>std</th>\n",
       "      <td>45.466030</td>\n",
       "      <td>1.141674</td>\n",
       "      <td>1.148043</td>\n",
       "      <td>1.136493</td>\n",
       "      <td>0.412595</td>\n",
       "      <td>0.266706</td>\n",
       "      <td>0.229349</td>\n",
       "      <td>0.145507</td>\n",
       "      <td>0.111038</td>\n",
       "      <td>0.133756</td>\n",
       "      <td>0.542220</td>\n",
       "    </tr>\n",
       "    <tr>\n",
       "      <th>min</th>\n",
       "      <td>1.000000</td>\n",
       "      <td>2.905000</td>\n",
       "      <td>2.732000</td>\n",
       "      <td>3.078000</td>\n",
       "      <td>0.000000</td>\n",
       "      <td>0.000000</td>\n",
       "      <td>0.000000</td>\n",
       "      <td>0.000000</td>\n",
       "      <td>0.000000</td>\n",
       "      <td>0.000000</td>\n",
       "      <td>0.817890</td>\n",
       "    </tr>\n",
       "    <tr>\n",
       "      <th>25%</th>\n",
       "      <td>40.000000</td>\n",
       "      <td>4.404000</td>\n",
       "      <td>4.327000</td>\n",
       "      <td>4.465000</td>\n",
       "      <td>0.670240</td>\n",
       "      <td>0.641840</td>\n",
       "      <td>0.382910</td>\n",
       "      <td>0.257480</td>\n",
       "      <td>0.061260</td>\n",
       "      <td>0.154570</td>\n",
       "      <td>2.031710</td>\n",
       "    </tr>\n",
       "    <tr>\n",
       "      <th>50%</th>\n",
       "      <td>79.000000</td>\n",
       "      <td>5.314000</td>\n",
       "      <td>5.237000</td>\n",
       "      <td>5.419000</td>\n",
       "      <td>1.027800</td>\n",
       "      <td>0.841420</td>\n",
       "      <td>0.596590</td>\n",
       "      <td>0.397470</td>\n",
       "      <td>0.105470</td>\n",
       "      <td>0.222450</td>\n",
       "      <td>2.290740</td>\n",
       "    </tr>\n",
       "    <tr>\n",
       "      <th>75%</th>\n",
       "      <td>118.000000</td>\n",
       "      <td>6.269000</td>\n",
       "      <td>6.154000</td>\n",
       "      <td>6.434000</td>\n",
       "      <td>1.279640</td>\n",
       "      <td>1.021520</td>\n",
       "      <td>0.729930</td>\n",
       "      <td>0.484530</td>\n",
       "      <td>0.175540</td>\n",
       "      <td>0.311850</td>\n",
       "      <td>2.664650</td>\n",
       "    </tr>\n",
       "    <tr>\n",
       "      <th>max</th>\n",
       "      <td>157.000000</td>\n",
       "      <td>7.526000</td>\n",
       "      <td>7.460000</td>\n",
       "      <td>7.669000</td>\n",
       "      <td>1.824270</td>\n",
       "      <td>1.183260</td>\n",
       "      <td>0.952770</td>\n",
       "      <td>0.608480</td>\n",
       "      <td>0.505210</td>\n",
       "      <td>0.819710</td>\n",
       "      <td>3.837720</td>\n",
       "    </tr>\n",
       "  </tbody>\n",
       "</table>\n",
       "</div>"
      ],
      "text/plain": [
       "       Happiness Rank  Happiness Score  Lower Confidence Interval  \\\n",
       "count      157.000000       157.000000                 157.000000   \n",
       "mean        78.980892         5.382185                   5.282395   \n",
       "std         45.466030         1.141674                   1.148043   \n",
       "min          1.000000         2.905000                   2.732000   \n",
       "25%         40.000000         4.404000                   4.327000   \n",
       "50%         79.000000         5.314000                   5.237000   \n",
       "75%        118.000000         6.269000                   6.154000   \n",
       "max        157.000000         7.526000                   7.460000   \n",
       "\n",
       "       Upper Confidence Interval  Economy (GDP per Capita)      Family  \\\n",
       "count                 157.000000                157.000000  157.000000   \n",
       "mean                    5.481975                  0.953880    0.793621   \n",
       "std                     1.136493                  0.412595    0.266706   \n",
       "min                     3.078000                  0.000000    0.000000   \n",
       "25%                     4.465000                  0.670240    0.641840   \n",
       "50%                     5.419000                  1.027800    0.841420   \n",
       "75%                     6.434000                  1.279640    1.021520   \n",
       "max                     7.669000                  1.824270    1.183260   \n",
       "\n",
       "       Health (Life Expectancy)     Freedom  Trust (Government Corruption)  \\\n",
       "count                157.000000  157.000000                     157.000000   \n",
       "mean                   0.557619    0.370994                       0.137624   \n",
       "std                    0.229349    0.145507                       0.111038   \n",
       "min                    0.000000    0.000000                       0.000000   \n",
       "25%                    0.382910    0.257480                       0.061260   \n",
       "50%                    0.596590    0.397470                       0.105470   \n",
       "75%                    0.729930    0.484530                       0.175540   \n",
       "max                    0.952770    0.608480                       0.505210   \n",
       "\n",
       "       Generosity  Dystopia Residual  \n",
       "count  157.000000         157.000000  \n",
       "mean     0.242635           2.325807  \n",
       "std      0.133756           0.542220  \n",
       "min      0.000000           0.817890  \n",
       "25%      0.154570           2.031710  \n",
       "50%      0.222450           2.290740  \n",
       "75%      0.311850           2.664650  \n",
       "max      0.819710           3.837720  "
      ]
     },
     "execution_count": 30,
     "metadata": {},
     "output_type": "execute_result"
    }
   ],
   "source": [
    "#descriptive statistics\n",
    "df_2016.describe()"
   ]
  },
  {
   "cell_type": "code",
   "execution_count": 31,
   "id": "132d7587-a199-435e-be58-cf1ba5e13aca",
   "metadata": {},
   "outputs": [],
   "source": [
    "#rename columns to match 2018 df and 2019 df\n",
    "df_2016.rename(columns = {'Economy (GDP per Capita)': 'GDP per capita'}, inplace = True)\n",
    "df_2016.rename(columns = {'Health (Life Expectancy)': 'Healthy life expectancy'}, inplace = True)\n",
    "df_2016.rename(columns = {'Freedom': 'Freedom to make life choices'}, inplace = True)\n",
    "df_2016.rename(columns = {'Trust (Government Corruption)': 'Perceptions of corruption'}, inplace = True)"
   ]
  },
  {
   "cell_type": "code",
   "execution_count": 32,
   "id": "03e6b82d-6651-41f6-8ab6-550fe805d2de",
   "metadata": {},
   "outputs": [
    {
     "data": {
      "text/plain": [
       "Index(['Country', 'Region', 'Happiness Rank', 'Happiness Score',\n",
       "       'Lower Confidence Interval', 'Upper Confidence Interval',\n",
       "       'GDP per capita', 'Family', 'Healthy life expectancy',\n",
       "       'Freedom to make life choices', 'Perceptions of corruption',\n",
       "       'Generosity', 'Dystopia Residual'],\n",
       "      dtype='object')"
      ]
     },
     "execution_count": 32,
     "metadata": {},
     "output_type": "execute_result"
    }
   ],
   "source": [
    "#check to see the columns now\n",
    "df_2016.columns"
   ]
  },
  {
   "cell_type": "code",
   "execution_count": 33,
   "id": "f15adfa9-ee94-4381-93e1-e8f97f4293a5",
   "metadata": {},
   "outputs": [],
   "source": [
    "#Export to Prepared Data\n",
    "df_2016.to_csv(os.path.join(path, '02 Data', 'Prepared Data', 'df_2016_checked.csv'))"
   ]
  },
  {
   "cell_type": "markdown",
   "id": "bec77f01-c2ad-4b6a-9152-49315b5e05f4",
   "metadata": {},
   "source": [
    "## Import 2017 data"
   ]
  },
  {
   "cell_type": "code",
   "execution_count": 35,
   "id": "ec745872-c7f9-4f62-bffe-5a40a6c24213",
   "metadata": {},
   "outputs": [],
   "source": [
    "# Import dataframe of 2017 from Original Data\n",
    "df_2017 = pd.read_csv(os.path.join(path, '02 Data', 'Original Data', '2017.csv'))"
   ]
  },
  {
   "cell_type": "code",
   "execution_count": 36,
   "id": "61ecfea9-b046-4278-abcf-2826cfb95eab",
   "metadata": {},
   "outputs": [
    {
     "data": {
      "text/html": [
       "<div>\n",
       "<style scoped>\n",
       "    .dataframe tbody tr th:only-of-type {\n",
       "        vertical-align: middle;\n",
       "    }\n",
       "\n",
       "    .dataframe tbody tr th {\n",
       "        vertical-align: top;\n",
       "    }\n",
       "\n",
       "    .dataframe thead th {\n",
       "        text-align: right;\n",
       "    }\n",
       "</style>\n",
       "<table border=\"1\" class=\"dataframe\">\n",
       "  <thead>\n",
       "    <tr style=\"text-align: right;\">\n",
       "      <th></th>\n",
       "      <th>Country</th>\n",
       "      <th>Happiness.Rank</th>\n",
       "      <th>Happiness.Score</th>\n",
       "      <th>Whisker.high</th>\n",
       "      <th>Whisker.low</th>\n",
       "      <th>Economy..GDP.per.Capita.</th>\n",
       "      <th>Family</th>\n",
       "      <th>Health..Life.Expectancy.</th>\n",
       "      <th>Freedom</th>\n",
       "      <th>Generosity</th>\n",
       "      <th>Trust..Government.Corruption.</th>\n",
       "      <th>Dystopia.Residual</th>\n",
       "    </tr>\n",
       "  </thead>\n",
       "  <tbody>\n",
       "    <tr>\n",
       "      <th>0</th>\n",
       "      <td>Norway</td>\n",
       "      <td>1</td>\n",
       "      <td>7.537</td>\n",
       "      <td>7.594445</td>\n",
       "      <td>7.479556</td>\n",
       "      <td>1.616463</td>\n",
       "      <td>1.533524</td>\n",
       "      <td>0.796667</td>\n",
       "      <td>0.635423</td>\n",
       "      <td>0.362012</td>\n",
       "      <td>0.315964</td>\n",
       "      <td>2.277027</td>\n",
       "    </tr>\n",
       "    <tr>\n",
       "      <th>1</th>\n",
       "      <td>Denmark</td>\n",
       "      <td>2</td>\n",
       "      <td>7.522</td>\n",
       "      <td>7.581728</td>\n",
       "      <td>7.462272</td>\n",
       "      <td>1.482383</td>\n",
       "      <td>1.551122</td>\n",
       "      <td>0.792566</td>\n",
       "      <td>0.626007</td>\n",
       "      <td>0.355280</td>\n",
       "      <td>0.400770</td>\n",
       "      <td>2.313707</td>\n",
       "    </tr>\n",
       "    <tr>\n",
       "      <th>2</th>\n",
       "      <td>Iceland</td>\n",
       "      <td>3</td>\n",
       "      <td>7.504</td>\n",
       "      <td>7.622030</td>\n",
       "      <td>7.385970</td>\n",
       "      <td>1.480633</td>\n",
       "      <td>1.610574</td>\n",
       "      <td>0.833552</td>\n",
       "      <td>0.627163</td>\n",
       "      <td>0.475540</td>\n",
       "      <td>0.153527</td>\n",
       "      <td>2.322715</td>\n",
       "    </tr>\n",
       "    <tr>\n",
       "      <th>3</th>\n",
       "      <td>Switzerland</td>\n",
       "      <td>4</td>\n",
       "      <td>7.494</td>\n",
       "      <td>7.561772</td>\n",
       "      <td>7.426227</td>\n",
       "      <td>1.564980</td>\n",
       "      <td>1.516912</td>\n",
       "      <td>0.858131</td>\n",
       "      <td>0.620071</td>\n",
       "      <td>0.290549</td>\n",
       "      <td>0.367007</td>\n",
       "      <td>2.276716</td>\n",
       "    </tr>\n",
       "    <tr>\n",
       "      <th>4</th>\n",
       "      <td>Finland</td>\n",
       "      <td>5</td>\n",
       "      <td>7.469</td>\n",
       "      <td>7.527542</td>\n",
       "      <td>7.410458</td>\n",
       "      <td>1.443572</td>\n",
       "      <td>1.540247</td>\n",
       "      <td>0.809158</td>\n",
       "      <td>0.617951</td>\n",
       "      <td>0.245483</td>\n",
       "      <td>0.382612</td>\n",
       "      <td>2.430182</td>\n",
       "    </tr>\n",
       "  </tbody>\n",
       "</table>\n",
       "</div>"
      ],
      "text/plain": [
       "       Country  Happiness.Rank  Happiness.Score  Whisker.high  Whisker.low  \\\n",
       "0       Norway               1            7.537      7.594445     7.479556   \n",
       "1      Denmark               2            7.522      7.581728     7.462272   \n",
       "2      Iceland               3            7.504      7.622030     7.385970   \n",
       "3  Switzerland               4            7.494      7.561772     7.426227   \n",
       "4      Finland               5            7.469      7.527542     7.410458   \n",
       "\n",
       "   Economy..GDP.per.Capita.    Family  Health..Life.Expectancy.   Freedom  \\\n",
       "0                  1.616463  1.533524                  0.796667  0.635423   \n",
       "1                  1.482383  1.551122                  0.792566  0.626007   \n",
       "2                  1.480633  1.610574                  0.833552  0.627163   \n",
       "3                  1.564980  1.516912                  0.858131  0.620071   \n",
       "4                  1.443572  1.540247                  0.809158  0.617951   \n",
       "\n",
       "   Generosity  Trust..Government.Corruption.  Dystopia.Residual  \n",
       "0    0.362012                       0.315964           2.277027  \n",
       "1    0.355280                       0.400770           2.313707  \n",
       "2    0.475540                       0.153527           2.322715  \n",
       "3    0.290549                       0.367007           2.276716  \n",
       "4    0.245483                       0.382612           2.430182  "
      ]
     },
     "execution_count": 36,
     "metadata": {},
     "output_type": "execute_result"
    }
   ],
   "source": [
    "#first five rows\n",
    "df_2017.head()"
   ]
  },
  {
   "cell_type": "code",
   "execution_count": 37,
   "id": "dd9f1184-801f-40f8-8fed-be44463ae383",
   "metadata": {},
   "outputs": [
    {
     "data": {
      "text/plain": [
       "(155, 12)"
      ]
     },
     "execution_count": 37,
     "metadata": {},
     "output_type": "execute_result"
    }
   ],
   "source": [
    "df_2017.shape"
   ]
  },
  {
   "cell_type": "code",
   "execution_count": 38,
   "id": "ddd52ef8-9506-4a2e-a84d-8aa8cbf9e065",
   "metadata": {},
   "outputs": [
    {
     "data": {
      "text/plain": [
       "Country                          0\n",
       "Happiness.Rank                   0\n",
       "Happiness.Score                  0\n",
       "Whisker.high                     0\n",
       "Whisker.low                      0\n",
       "Economy..GDP.per.Capita.         0\n",
       "Family                           0\n",
       "Health..Life.Expectancy.         0\n",
       "Freedom                          0\n",
       "Generosity                       0\n",
       "Trust..Government.Corruption.    0\n",
       "Dystopia.Residual                0\n",
       "dtype: int64"
      ]
     },
     "execution_count": 38,
     "metadata": {},
     "output_type": "execute_result"
    }
   ],
   "source": [
    "#155 rows, 12 columns\n",
    "#check for missing values\n",
    "df_2017.isnull().sum()"
   ]
  },
  {
   "cell_type": "code",
   "execution_count": 39,
   "id": "99f9d92c-8275-47a8-a63f-6ad326c68a15",
   "metadata": {},
   "outputs": [
    {
     "name": "stdout",
     "output_type": "stream",
     "text": [
      "Number of duplicate rows:  0\n"
     ]
    }
   ],
   "source": [
    "#157 rows and 13 columns, we can see all 13 columns, no need to list them\n",
    "#not all column names are consistent and well labeled, we will fix this at the end of the 2017 section\n",
    "#checking for duplicates\n",
    "duplicates = df_2017.duplicated()\n",
    "print(\"Number of duplicate rows: \", duplicates.sum())"
   ]
  },
  {
   "cell_type": "code",
   "execution_count": 40,
   "id": "10a90026-1fb9-4aae-9506-d1a95c532148",
   "metadata": {},
   "outputs": [
    {
     "data": {
      "text/plain": [
       "Country                           object\n",
       "Happiness.Rank                     int64\n",
       "Happiness.Score                  float64\n",
       "Whisker.high                     float64\n",
       "Whisker.low                      float64\n",
       "Economy..GDP.per.Capita.         float64\n",
       "Family                           float64\n",
       "Health..Life.Expectancy.         float64\n",
       "Freedom                          float64\n",
       "Generosity                       float64\n",
       "Trust..Government.Corruption.    float64\n",
       "Dystopia.Residual                float64\n",
       "dtype: object"
      ]
     },
     "execution_count": 40,
     "metadata": {},
     "output_type": "execute_result"
    }
   ],
   "source": [
    "#check for datatypes\n",
    "df_2017.dtypes"
   ]
  },
  {
   "cell_type": "code",
   "execution_count": 41,
   "id": "fb6f46ab-f1ec-49be-ae79-3d718c8da897",
   "metadata": {},
   "outputs": [],
   "source": [
    "#checking for mixed column types\n",
    "for col in df_2017.columns.tolist():\n",
    "    weird = (df_2017[[col]].map(type) !=df_2017[[col]].iloc[0].apply(type)).any(axis = 1)\n",
    "    if len (df_2017[weird]) > 0:\n",
    "        print(f\"Column {col} has mixed types\")"
   ]
  },
  {
   "cell_type": "code",
   "execution_count": 42,
   "id": "16e027d4-8f0e-4adb-a01c-2ab67433cb94",
   "metadata": {},
   "outputs": [],
   "source": [
    "#There are no mixed data types\n",
    "#checking to see if there are outliers \n",
    "# Function to detect outliers\n",
    "def detect_outliers(df_2017):\n",
    "    outliers = pd.df_2017()\n",
    "    for col in df.select_dtypes(include=[float, int]).columns:\n",
    "        Q1 = df[col].quantile(0.25)\n",
    "        Q3 = df[col].quantile(0.75)\n",
    "        IQR = Q3 - Q1\n",
    "        lower_bound = Q1 - 1.5 * IQR\n",
    "        upper_bound = Q3 + 1.5 * IQR\n",
    "        col_outliers = df[(df[col] < lower_bound) | (df[col] > upper_bound)]\n",
    "        if not col_outliers.empty:\n",
    "            outliers = outliers.append(col_outliers)\n",
    "            print(f\"Outliers detected in column {col}:\")\n",
    "            print(col_outliers)\n",
    "  \n",
    "    if outliers.empty:\n",
    "        print(\"No outliers detected.\")"
   ]
  },
  {
   "cell_type": "code",
   "execution_count": 43,
   "id": "04d5aec5-acaf-4905-9dd4-4605935ca165",
   "metadata": {},
   "outputs": [
    {
     "data": {
      "text/html": [
       "<div>\n",
       "<style scoped>\n",
       "    .dataframe tbody tr th:only-of-type {\n",
       "        vertical-align: middle;\n",
       "    }\n",
       "\n",
       "    .dataframe tbody tr th {\n",
       "        vertical-align: top;\n",
       "    }\n",
       "\n",
       "    .dataframe thead th {\n",
       "        text-align: right;\n",
       "    }\n",
       "</style>\n",
       "<table border=\"1\" class=\"dataframe\">\n",
       "  <thead>\n",
       "    <tr style=\"text-align: right;\">\n",
       "      <th></th>\n",
       "      <th>Happiness.Rank</th>\n",
       "      <th>Happiness.Score</th>\n",
       "      <th>Whisker.high</th>\n",
       "      <th>Whisker.low</th>\n",
       "      <th>Economy..GDP.per.Capita.</th>\n",
       "      <th>Family</th>\n",
       "      <th>Health..Life.Expectancy.</th>\n",
       "      <th>Freedom</th>\n",
       "      <th>Generosity</th>\n",
       "      <th>Trust..Government.Corruption.</th>\n",
       "      <th>Dystopia.Residual</th>\n",
       "    </tr>\n",
       "  </thead>\n",
       "  <tbody>\n",
       "    <tr>\n",
       "      <th>count</th>\n",
       "      <td>155.000000</td>\n",
       "      <td>155.000000</td>\n",
       "      <td>155.000000</td>\n",
       "      <td>155.000000</td>\n",
       "      <td>155.000000</td>\n",
       "      <td>155.000000</td>\n",
       "      <td>155.000000</td>\n",
       "      <td>155.000000</td>\n",
       "      <td>155.000000</td>\n",
       "      <td>155.000000</td>\n",
       "      <td>155.000000</td>\n",
       "    </tr>\n",
       "    <tr>\n",
       "      <th>mean</th>\n",
       "      <td>78.000000</td>\n",
       "      <td>5.354019</td>\n",
       "      <td>5.452326</td>\n",
       "      <td>5.255713</td>\n",
       "      <td>0.984718</td>\n",
       "      <td>1.188898</td>\n",
       "      <td>0.551341</td>\n",
       "      <td>0.408786</td>\n",
       "      <td>0.246883</td>\n",
       "      <td>0.123120</td>\n",
       "      <td>1.850238</td>\n",
       "    </tr>\n",
       "    <tr>\n",
       "      <th>std</th>\n",
       "      <td>44.888751</td>\n",
       "      <td>1.131230</td>\n",
       "      <td>1.118542</td>\n",
       "      <td>1.145030</td>\n",
       "      <td>0.420793</td>\n",
       "      <td>0.287263</td>\n",
       "      <td>0.237073</td>\n",
       "      <td>0.149997</td>\n",
       "      <td>0.134780</td>\n",
       "      <td>0.101661</td>\n",
       "      <td>0.500028</td>\n",
       "    </tr>\n",
       "    <tr>\n",
       "      <th>min</th>\n",
       "      <td>1.000000</td>\n",
       "      <td>2.693000</td>\n",
       "      <td>2.864884</td>\n",
       "      <td>2.521116</td>\n",
       "      <td>0.000000</td>\n",
       "      <td>0.000000</td>\n",
       "      <td>0.000000</td>\n",
       "      <td>0.000000</td>\n",
       "      <td>0.000000</td>\n",
       "      <td>0.000000</td>\n",
       "      <td>0.377914</td>\n",
       "    </tr>\n",
       "    <tr>\n",
       "      <th>25%</th>\n",
       "      <td>39.500000</td>\n",
       "      <td>4.505500</td>\n",
       "      <td>4.608172</td>\n",
       "      <td>4.374955</td>\n",
       "      <td>0.663371</td>\n",
       "      <td>1.042635</td>\n",
       "      <td>0.369866</td>\n",
       "      <td>0.303677</td>\n",
       "      <td>0.154106</td>\n",
       "      <td>0.057271</td>\n",
       "      <td>1.591291</td>\n",
       "    </tr>\n",
       "    <tr>\n",
       "      <th>50%</th>\n",
       "      <td>78.000000</td>\n",
       "      <td>5.279000</td>\n",
       "      <td>5.370032</td>\n",
       "      <td>5.193152</td>\n",
       "      <td>1.064578</td>\n",
       "      <td>1.253918</td>\n",
       "      <td>0.606042</td>\n",
       "      <td>0.437454</td>\n",
       "      <td>0.231538</td>\n",
       "      <td>0.089848</td>\n",
       "      <td>1.832910</td>\n",
       "    </tr>\n",
       "    <tr>\n",
       "      <th>75%</th>\n",
       "      <td>116.500000</td>\n",
       "      <td>6.101500</td>\n",
       "      <td>6.194600</td>\n",
       "      <td>6.006527</td>\n",
       "      <td>1.318027</td>\n",
       "      <td>1.414316</td>\n",
       "      <td>0.723008</td>\n",
       "      <td>0.516561</td>\n",
       "      <td>0.323762</td>\n",
       "      <td>0.153296</td>\n",
       "      <td>2.144654</td>\n",
       "    </tr>\n",
       "    <tr>\n",
       "      <th>max</th>\n",
       "      <td>155.000000</td>\n",
       "      <td>7.537000</td>\n",
       "      <td>7.622030</td>\n",
       "      <td>7.479556</td>\n",
       "      <td>1.870766</td>\n",
       "      <td>1.610574</td>\n",
       "      <td>0.949492</td>\n",
       "      <td>0.658249</td>\n",
       "      <td>0.838075</td>\n",
       "      <td>0.464308</td>\n",
       "      <td>3.117485</td>\n",
       "    </tr>\n",
       "  </tbody>\n",
       "</table>\n",
       "</div>"
      ],
      "text/plain": [
       "       Happiness.Rank  Happiness.Score  Whisker.high  Whisker.low  \\\n",
       "count      155.000000       155.000000    155.000000   155.000000   \n",
       "mean        78.000000         5.354019      5.452326     5.255713   \n",
       "std         44.888751         1.131230      1.118542     1.145030   \n",
       "min          1.000000         2.693000      2.864884     2.521116   \n",
       "25%         39.500000         4.505500      4.608172     4.374955   \n",
       "50%         78.000000         5.279000      5.370032     5.193152   \n",
       "75%        116.500000         6.101500      6.194600     6.006527   \n",
       "max        155.000000         7.537000      7.622030     7.479556   \n",
       "\n",
       "       Economy..GDP.per.Capita.      Family  Health..Life.Expectancy.  \\\n",
       "count                155.000000  155.000000                155.000000   \n",
       "mean                   0.984718    1.188898                  0.551341   \n",
       "std                    0.420793    0.287263                  0.237073   \n",
       "min                    0.000000    0.000000                  0.000000   \n",
       "25%                    0.663371    1.042635                  0.369866   \n",
       "50%                    1.064578    1.253918                  0.606042   \n",
       "75%                    1.318027    1.414316                  0.723008   \n",
       "max                    1.870766    1.610574                  0.949492   \n",
       "\n",
       "          Freedom  Generosity  Trust..Government.Corruption.  \\\n",
       "count  155.000000  155.000000                     155.000000   \n",
       "mean     0.408786    0.246883                       0.123120   \n",
       "std      0.149997    0.134780                       0.101661   \n",
       "min      0.000000    0.000000                       0.000000   \n",
       "25%      0.303677    0.154106                       0.057271   \n",
       "50%      0.437454    0.231538                       0.089848   \n",
       "75%      0.516561    0.323762                       0.153296   \n",
       "max      0.658249    0.838075                       0.464308   \n",
       "\n",
       "       Dystopia.Residual  \n",
       "count         155.000000  \n",
       "mean            1.850238  \n",
       "std             0.500028  \n",
       "min             0.377914  \n",
       "25%             1.591291  \n",
       "50%             1.832910  \n",
       "75%             2.144654  \n",
       "max             3.117485  "
      ]
     },
     "execution_count": 43,
     "metadata": {},
     "output_type": "execute_result"
    }
   ],
   "source": [
    "#descriptive statistics\n",
    "df_2017.describe()"
   ]
  },
  {
   "cell_type": "code",
   "execution_count": 44,
   "id": "c2b850e9-4a89-4dd3-a216-ae082129dfc4",
   "metadata": {},
   "outputs": [],
   "source": [
    "#rename columns to match 2018 df and 2019 df\n",
    "df_2017.rename(columns = {'Happiness.Rank': 'Happiness Rank'}, inplace = True)\n",
    "df_2017.rename(columns = {'Happiness.Score': 'Happiness Score'}, inplace = True)\n",
    "df_2017.rename(columns = {'Whisker.high': 'Whisker high'}, inplace = True)\n",
    "df_2017.rename(columns = {'Whisker.low': 'Whisker low'}, inplace = True)\n",
    "df_2017.rename(columns = {'Economy..GDP.per.Capita.': 'GDP per capita'}, inplace = True)\n",
    "df_2017.rename(columns = {'Health..Life.Expectancy.': 'Healthy life expectancy'}, inplace = True)\n",
    "df_2017.rename(columns = {'Freedom': 'Freedom to make life choices'}, inplace = True)\n",
    "df_2017.rename(columns = {'Trust..Government.Corruption.': 'Perceptions of corruption'}, inplace = True)\n",
    "df_2017.rename(columns = {'Dystopia.Residual': 'Dystopia residual'}, inplace = True)"
   ]
  },
  {
   "cell_type": "code",
   "execution_count": 45,
   "id": "e02a338c-0a10-4c0e-9de0-7f7804ecb532",
   "metadata": {},
   "outputs": [
    {
     "data": {
      "text/plain": [
       "Index(['Country', 'Happiness Rank', 'Happiness Score', 'Whisker high',\n",
       "       'Whisker low', 'GDP per capita', 'Family', 'Healthy life expectancy',\n",
       "       'Freedom to make life choices', 'Generosity',\n",
       "       'Perceptions of corruption', 'Dystopia residual'],\n",
       "      dtype='object')"
      ]
     },
     "execution_count": 45,
     "metadata": {},
     "output_type": "execute_result"
    }
   ],
   "source": [
    "#check to see the columns now\n",
    "df_2017.columns"
   ]
  },
  {
   "cell_type": "code",
   "execution_count": 46,
   "id": "aceb1644-3953-4d19-97e6-dabaf3331a28",
   "metadata": {},
   "outputs": [],
   "source": [
    "#Export to Prepared Data\n",
    "df_2017.to_csv(os.path.join(path, '02 Data', 'Prepared Data', 'df_2017_checked.csv'))"
   ]
  },
  {
   "cell_type": "markdown",
   "id": "5a2cf162-3b99-4268-ad20-514a94b7faf7",
   "metadata": {},
   "source": [
    "## Import 2018 data"
   ]
  },
  {
   "cell_type": "code",
   "execution_count": 48,
   "id": "e00fcd59-513b-4704-891e-981092e381a0",
   "metadata": {},
   "outputs": [],
   "source": [
    "# Import dataframe of 2018 from Original Data\n",
    "df_2018 = pd.read_csv(os.path.join(path, '02 Data', 'Original Data', '2018.csv'))"
   ]
  },
  {
   "cell_type": "code",
   "execution_count": 49,
   "id": "7ae47087-fa96-4a23-8e23-b89ee094afef",
   "metadata": {},
   "outputs": [
    {
     "data": {
      "text/html": [
       "<div>\n",
       "<style scoped>\n",
       "    .dataframe tbody tr th:only-of-type {\n",
       "        vertical-align: middle;\n",
       "    }\n",
       "\n",
       "    .dataframe tbody tr th {\n",
       "        vertical-align: top;\n",
       "    }\n",
       "\n",
       "    .dataframe thead th {\n",
       "        text-align: right;\n",
       "    }\n",
       "</style>\n",
       "<table border=\"1\" class=\"dataframe\">\n",
       "  <thead>\n",
       "    <tr style=\"text-align: right;\">\n",
       "      <th></th>\n",
       "      <th>Overall rank</th>\n",
       "      <th>Country or region</th>\n",
       "      <th>Score</th>\n",
       "      <th>GDP per capita</th>\n",
       "      <th>Social support</th>\n",
       "      <th>Healthy life expectancy</th>\n",
       "      <th>Freedom to make life choices</th>\n",
       "      <th>Generosity</th>\n",
       "      <th>Perceptions of corruption</th>\n",
       "    </tr>\n",
       "  </thead>\n",
       "  <tbody>\n",
       "    <tr>\n",
       "      <th>0</th>\n",
       "      <td>1</td>\n",
       "      <td>Finland</td>\n",
       "      <td>7.632</td>\n",
       "      <td>1.305</td>\n",
       "      <td>1.592</td>\n",
       "      <td>0.874</td>\n",
       "      <td>0.681</td>\n",
       "      <td>0.202</td>\n",
       "      <td>0.393</td>\n",
       "    </tr>\n",
       "    <tr>\n",
       "      <th>1</th>\n",
       "      <td>2</td>\n",
       "      <td>Norway</td>\n",
       "      <td>7.594</td>\n",
       "      <td>1.456</td>\n",
       "      <td>1.582</td>\n",
       "      <td>0.861</td>\n",
       "      <td>0.686</td>\n",
       "      <td>0.286</td>\n",
       "      <td>0.340</td>\n",
       "    </tr>\n",
       "    <tr>\n",
       "      <th>2</th>\n",
       "      <td>3</td>\n",
       "      <td>Denmark</td>\n",
       "      <td>7.555</td>\n",
       "      <td>1.351</td>\n",
       "      <td>1.590</td>\n",
       "      <td>0.868</td>\n",
       "      <td>0.683</td>\n",
       "      <td>0.284</td>\n",
       "      <td>0.408</td>\n",
       "    </tr>\n",
       "    <tr>\n",
       "      <th>3</th>\n",
       "      <td>4</td>\n",
       "      <td>Iceland</td>\n",
       "      <td>7.495</td>\n",
       "      <td>1.343</td>\n",
       "      <td>1.644</td>\n",
       "      <td>0.914</td>\n",
       "      <td>0.677</td>\n",
       "      <td>0.353</td>\n",
       "      <td>0.138</td>\n",
       "    </tr>\n",
       "    <tr>\n",
       "      <th>4</th>\n",
       "      <td>5</td>\n",
       "      <td>Switzerland</td>\n",
       "      <td>7.487</td>\n",
       "      <td>1.420</td>\n",
       "      <td>1.549</td>\n",
       "      <td>0.927</td>\n",
       "      <td>0.660</td>\n",
       "      <td>0.256</td>\n",
       "      <td>0.357</td>\n",
       "    </tr>\n",
       "  </tbody>\n",
       "</table>\n",
       "</div>"
      ],
      "text/plain": [
       "   Overall rank Country or region  Score  GDP per capita  Social support  \\\n",
       "0             1           Finland  7.632           1.305           1.592   \n",
       "1             2            Norway  7.594           1.456           1.582   \n",
       "2             3           Denmark  7.555           1.351           1.590   \n",
       "3             4           Iceland  7.495           1.343           1.644   \n",
       "4             5       Switzerland  7.487           1.420           1.549   \n",
       "\n",
       "   Healthy life expectancy  Freedom to make life choices  Generosity  \\\n",
       "0                    0.874                         0.681       0.202   \n",
       "1                    0.861                         0.686       0.286   \n",
       "2                    0.868                         0.683       0.284   \n",
       "3                    0.914                         0.677       0.353   \n",
       "4                    0.927                         0.660       0.256   \n",
       "\n",
       "   Perceptions of corruption  \n",
       "0                      0.393  \n",
       "1                      0.340  \n",
       "2                      0.408  \n",
       "3                      0.138  \n",
       "4                      0.357  "
      ]
     },
     "execution_count": 49,
     "metadata": {},
     "output_type": "execute_result"
    }
   ],
   "source": [
    "df_2018.head()"
   ]
  },
  {
   "cell_type": "code",
   "execution_count": 50,
   "id": "b0254fe1-ab0a-4104-acce-6177e4a56552",
   "metadata": {},
   "outputs": [
    {
     "data": {
      "text/plain": [
       "(156, 9)"
      ]
     },
     "execution_count": 50,
     "metadata": {},
     "output_type": "execute_result"
    }
   ],
   "source": [
    "df_2018.shape"
   ]
  },
  {
   "cell_type": "code",
   "execution_count": 51,
   "id": "98c0199e-879e-419b-80b8-2eb8a715331b",
   "metadata": {},
   "outputs": [
    {
     "data": {
      "text/plain": [
       "Overall rank                    0\n",
       "Country or region               0\n",
       "Score                           0\n",
       "GDP per capita                  0\n",
       "Social support                  0\n",
       "Healthy life expectancy         0\n",
       "Freedom to make life choices    0\n",
       "Generosity                      0\n",
       "Perceptions of corruption       1\n",
       "dtype: int64"
      ]
     },
     "execution_count": 51,
     "metadata": {},
     "output_type": "execute_result"
    }
   ],
   "source": [
    "#156 rows, 9 columns\n",
    "#check for missing values\n",
    "df_2018.isnull().sum()"
   ]
  },
  {
   "cell_type": "code",
   "execution_count": 52,
   "id": "b50d8767-206c-4899-bd08-a482ebb07ab8",
   "metadata": {},
   "outputs": [
    {
     "name": "stdout",
     "output_type": "stream",
     "text": [
      "Number of duplicate rows:  0\n"
     ]
    }
   ],
   "source": [
    "#1 missing value! To be addressed at the end of section 2018 data\n",
    "#all column names are consistent and well labeled\n",
    "#checking for duplicates\n",
    "duplicates = df_2018.duplicated()\n",
    "print(\"Number of duplicate rows: \", duplicates.sum())"
   ]
  },
  {
   "cell_type": "code",
   "execution_count": 53,
   "id": "e7fb650e-e9c2-44ff-b920-63d60bd39c14",
   "metadata": {},
   "outputs": [
    {
     "data": {
      "text/plain": [
       "Overall rank                      int64\n",
       "Country or region                object\n",
       "Score                           float64\n",
       "GDP per capita                  float64\n",
       "Social support                  float64\n",
       "Healthy life expectancy         float64\n",
       "Freedom to make life choices    float64\n",
       "Generosity                      float64\n",
       "Perceptions of corruption       float64\n",
       "dtype: object"
      ]
     },
     "execution_count": 53,
     "metadata": {},
     "output_type": "execute_result"
    }
   ],
   "source": [
    "#check for datatypes\n",
    "df_2018.dtypes"
   ]
  },
  {
   "cell_type": "code",
   "execution_count": 54,
   "id": "9f5bdffc-eae7-4e33-a416-2ff4804ed81d",
   "metadata": {},
   "outputs": [],
   "source": [
    "#checking for mixed column types\n",
    "for col in df_2018.columns.tolist():\n",
    "    weird = (df_2018[[col]].map(type) !=df_2018[[col]].iloc[0].apply(type)).any(axis = 1)\n",
    "    if len (df_2018[weird]) > 0:\n",
    "        print(f\"Column {col} has mixed types\")"
   ]
  },
  {
   "cell_type": "code",
   "execution_count": 55,
   "id": "02251bac-cb9d-4b0f-8b9c-0b67e6c840b4",
   "metadata": {},
   "outputs": [],
   "source": [
    "#There are no mixed data types\n",
    "#checking to see if there are outliers \n",
    "# Function to detect outliers\n",
    "def detect_outliers(df_2018):\n",
    "    outliers = pd.df_2018()\n",
    "    for col in df.select_dtypes(include=[float, int]).columns:\n",
    "        Q1 = df[col].quantile(0.25)\n",
    "        Q3 = df[col].quantile(0.75)\n",
    "        IQR = Q3 - Q1\n",
    "        lower_bound = Q1 - 1.5 * IQR\n",
    "        upper_bound = Q3 + 1.5 * IQR\n",
    "        col_outliers = df[(df[col] < lower_bound) | (df[col] > upper_bound)]\n",
    "        if not col_outliers.empty:\n",
    "            outliers = outliers.append(col_outliers)\n",
    "            print(f\"Outliers detected in column {col}:\")\n",
    "            print(col_outliers)\n",
    "  \n",
    "    if outliers.empty:\n",
    "        print(\"No outliers detected.\")"
   ]
  },
  {
   "cell_type": "code",
   "execution_count": 56,
   "id": "cb59b68b-f4f5-49d2-9bf9-358cbfbb36c4",
   "metadata": {},
   "outputs": [
    {
     "data": {
      "text/html": [
       "<div>\n",
       "<style scoped>\n",
       "    .dataframe tbody tr th:only-of-type {\n",
       "        vertical-align: middle;\n",
       "    }\n",
       "\n",
       "    .dataframe tbody tr th {\n",
       "        vertical-align: top;\n",
       "    }\n",
       "\n",
       "    .dataframe thead th {\n",
       "        text-align: right;\n",
       "    }\n",
       "</style>\n",
       "<table border=\"1\" class=\"dataframe\">\n",
       "  <thead>\n",
       "    <tr style=\"text-align: right;\">\n",
       "      <th></th>\n",
       "      <th>Overall rank</th>\n",
       "      <th>Score</th>\n",
       "      <th>GDP per capita</th>\n",
       "      <th>Social support</th>\n",
       "      <th>Healthy life expectancy</th>\n",
       "      <th>Freedom to make life choices</th>\n",
       "      <th>Generosity</th>\n",
       "      <th>Perceptions of corruption</th>\n",
       "    </tr>\n",
       "  </thead>\n",
       "  <tbody>\n",
       "    <tr>\n",
       "      <th>count</th>\n",
       "      <td>156.000000</td>\n",
       "      <td>156.000000</td>\n",
       "      <td>156.000000</td>\n",
       "      <td>156.000000</td>\n",
       "      <td>156.000000</td>\n",
       "      <td>156.000000</td>\n",
       "      <td>156.000000</td>\n",
       "      <td>155.000000</td>\n",
       "    </tr>\n",
       "    <tr>\n",
       "      <th>mean</th>\n",
       "      <td>78.500000</td>\n",
       "      <td>5.375917</td>\n",
       "      <td>0.891449</td>\n",
       "      <td>1.213237</td>\n",
       "      <td>0.597346</td>\n",
       "      <td>0.454506</td>\n",
       "      <td>0.181006</td>\n",
       "      <td>0.112000</td>\n",
       "    </tr>\n",
       "    <tr>\n",
       "      <th>std</th>\n",
       "      <td>45.177428</td>\n",
       "      <td>1.119506</td>\n",
       "      <td>0.391921</td>\n",
       "      <td>0.302372</td>\n",
       "      <td>0.247579</td>\n",
       "      <td>0.162424</td>\n",
       "      <td>0.098471</td>\n",
       "      <td>0.096492</td>\n",
       "    </tr>\n",
       "    <tr>\n",
       "      <th>min</th>\n",
       "      <td>1.000000</td>\n",
       "      <td>2.905000</td>\n",
       "      <td>0.000000</td>\n",
       "      <td>0.000000</td>\n",
       "      <td>0.000000</td>\n",
       "      <td>0.000000</td>\n",
       "      <td>0.000000</td>\n",
       "      <td>0.000000</td>\n",
       "    </tr>\n",
       "    <tr>\n",
       "      <th>25%</th>\n",
       "      <td>39.750000</td>\n",
       "      <td>4.453750</td>\n",
       "      <td>0.616250</td>\n",
       "      <td>1.066750</td>\n",
       "      <td>0.422250</td>\n",
       "      <td>0.356000</td>\n",
       "      <td>0.109500</td>\n",
       "      <td>0.051000</td>\n",
       "    </tr>\n",
       "    <tr>\n",
       "      <th>50%</th>\n",
       "      <td>78.500000</td>\n",
       "      <td>5.378000</td>\n",
       "      <td>0.949500</td>\n",
       "      <td>1.255000</td>\n",
       "      <td>0.644000</td>\n",
       "      <td>0.487000</td>\n",
       "      <td>0.174000</td>\n",
       "      <td>0.082000</td>\n",
       "    </tr>\n",
       "    <tr>\n",
       "      <th>75%</th>\n",
       "      <td>117.250000</td>\n",
       "      <td>6.168500</td>\n",
       "      <td>1.197750</td>\n",
       "      <td>1.463000</td>\n",
       "      <td>0.777250</td>\n",
       "      <td>0.578500</td>\n",
       "      <td>0.239000</td>\n",
       "      <td>0.137000</td>\n",
       "    </tr>\n",
       "    <tr>\n",
       "      <th>max</th>\n",
       "      <td>156.000000</td>\n",
       "      <td>7.632000</td>\n",
       "      <td>2.096000</td>\n",
       "      <td>1.644000</td>\n",
       "      <td>1.030000</td>\n",
       "      <td>0.724000</td>\n",
       "      <td>0.598000</td>\n",
       "      <td>0.457000</td>\n",
       "    </tr>\n",
       "  </tbody>\n",
       "</table>\n",
       "</div>"
      ],
      "text/plain": [
       "       Overall rank       Score  GDP per capita  Social support  \\\n",
       "count    156.000000  156.000000      156.000000      156.000000   \n",
       "mean      78.500000    5.375917        0.891449        1.213237   \n",
       "std       45.177428    1.119506        0.391921        0.302372   \n",
       "min        1.000000    2.905000        0.000000        0.000000   \n",
       "25%       39.750000    4.453750        0.616250        1.066750   \n",
       "50%       78.500000    5.378000        0.949500        1.255000   \n",
       "75%      117.250000    6.168500        1.197750        1.463000   \n",
       "max      156.000000    7.632000        2.096000        1.644000   \n",
       "\n",
       "       Healthy life expectancy  Freedom to make life choices  Generosity  \\\n",
       "count               156.000000                    156.000000  156.000000   \n",
       "mean                  0.597346                      0.454506    0.181006   \n",
       "std                   0.247579                      0.162424    0.098471   \n",
       "min                   0.000000                      0.000000    0.000000   \n",
       "25%                   0.422250                      0.356000    0.109500   \n",
       "50%                   0.644000                      0.487000    0.174000   \n",
       "75%                   0.777250                      0.578500    0.239000   \n",
       "max                   1.030000                      0.724000    0.598000   \n",
       "\n",
       "       Perceptions of corruption  \n",
       "count                 155.000000  \n",
       "mean                    0.112000  \n",
       "std                     0.096492  \n",
       "min                     0.000000  \n",
       "25%                     0.051000  \n",
       "50%                     0.082000  \n",
       "75%                     0.137000  \n",
       "max                     0.457000  "
      ]
     },
     "execution_count": 56,
     "metadata": {},
     "output_type": "execute_result"
    }
   ],
   "source": [
    "#descriptive statistics\n",
    "df_2018.describe()"
   ]
  },
  {
   "cell_type": "code",
   "execution_count": 57,
   "id": "b7cf236a-a215-4e41-b822-0852c7c0c473",
   "metadata": {},
   "outputs": [
    {
     "name": "stdout",
     "output_type": "stream",
     "text": [
      "Perceptions of corruption\n",
      "0.082    5\n",
      "0.074    4\n",
      "0.052    4\n",
      "0.106    3\n",
      "0.064    3\n",
      "        ..\n",
      "0.259    1\n",
      "0.123    1\n",
      "0.014    1\n",
      "0.019    1\n",
      "0.038    1\n",
      "Name: count, Length: 111, dtype: int64\n"
     ]
    }
   ],
   "source": [
    "# Get the value counts for the 'Perceptions of corruption' column\n",
    "perception_corruption = df_2018['Perceptions of corruption'].value_counts(dropna = False)\n",
    "\n",
    "# Display the counts\n",
    "print(perception_corruption)"
   ]
  },
  {
   "cell_type": "code",
   "execution_count": 58,
   "id": "79f85a33-7f1c-4d62-8879-b60a32f26b73",
   "metadata": {},
   "outputs": [],
   "source": [
    "# Impute with mean\n",
    "df_2018['Perceptions of corruption'] = df_2018['Perceptions of corruption'].fillna(df_2018['Perceptions of corruption'].mean())"
   ]
  },
  {
   "cell_type": "code",
   "execution_count": 59,
   "id": "2d04763e-e6ef-4525-b572-6882ed85b496",
   "metadata": {},
   "outputs": [
    {
     "data": {
      "text/plain": [
       "Overall rank                    0\n",
       "Country or region               0\n",
       "Score                           0\n",
       "GDP per capita                  0\n",
       "Social support                  0\n",
       "Healthy life expectancy         0\n",
       "Freedom to make life choices    0\n",
       "Generosity                      0\n",
       "Perceptions of corruption       0\n",
       "dtype: int64"
      ]
     },
     "execution_count": 59,
     "metadata": {},
     "output_type": "execute_result"
    }
   ],
   "source": [
    "#let's check again for missing values\n",
    "df_2018.isnull().sum()"
   ]
  },
  {
   "cell_type": "code",
   "execution_count": 60,
   "id": "6a71e1ed-78e0-4119-8df4-912fcf73a2eb",
   "metadata": {},
   "outputs": [],
   "source": [
    "#Export to Prepared Data\n",
    "df_2018.to_csv(os.path.join(path, '02 Data', 'Prepared Data', 'df_2018_checked.csv'))"
   ]
  },
  {
   "cell_type": "markdown",
   "id": "79ebc0a8-673c-427d-a54a-47d9ee880f75",
   "metadata": {},
   "source": [
    "## Import 2019 data"
   ]
  },
  {
   "cell_type": "code",
   "execution_count": 62,
   "id": "d4f21dc9-491a-45a8-bd47-aaffaabf7be0",
   "metadata": {},
   "outputs": [],
   "source": [
    "# Import dataframe of 2019 from Original Data\n",
    "df_2019 = pd.read_csv(os.path.join(path, '02 Data', 'Original Data', '2019.csv'))"
   ]
  },
  {
   "cell_type": "code",
   "execution_count": 63,
   "id": "e63ec873-f672-468f-84b5-698c201a1206",
   "metadata": {},
   "outputs": [
    {
     "data": {
      "text/html": [
       "<div>\n",
       "<style scoped>\n",
       "    .dataframe tbody tr th:only-of-type {\n",
       "        vertical-align: middle;\n",
       "    }\n",
       "\n",
       "    .dataframe tbody tr th {\n",
       "        vertical-align: top;\n",
       "    }\n",
       "\n",
       "    .dataframe thead th {\n",
       "        text-align: right;\n",
       "    }\n",
       "</style>\n",
       "<table border=\"1\" class=\"dataframe\">\n",
       "  <thead>\n",
       "    <tr style=\"text-align: right;\">\n",
       "      <th></th>\n",
       "      <th>Overall rank</th>\n",
       "      <th>Country or region</th>\n",
       "      <th>Score</th>\n",
       "      <th>GDP per capita</th>\n",
       "      <th>Social support</th>\n",
       "      <th>Healthy life expectancy</th>\n",
       "      <th>Freedom to make life choices</th>\n",
       "      <th>Generosity</th>\n",
       "      <th>Perceptions of corruption</th>\n",
       "    </tr>\n",
       "  </thead>\n",
       "  <tbody>\n",
       "    <tr>\n",
       "      <th>0</th>\n",
       "      <td>1</td>\n",
       "      <td>Finland</td>\n",
       "      <td>7.769</td>\n",
       "      <td>1.340</td>\n",
       "      <td>1.587</td>\n",
       "      <td>0.986</td>\n",
       "      <td>0.596</td>\n",
       "      <td>0.153</td>\n",
       "      <td>0.393</td>\n",
       "    </tr>\n",
       "    <tr>\n",
       "      <th>1</th>\n",
       "      <td>2</td>\n",
       "      <td>Denmark</td>\n",
       "      <td>7.600</td>\n",
       "      <td>1.383</td>\n",
       "      <td>1.573</td>\n",
       "      <td>0.996</td>\n",
       "      <td>0.592</td>\n",
       "      <td>0.252</td>\n",
       "      <td>0.410</td>\n",
       "    </tr>\n",
       "    <tr>\n",
       "      <th>2</th>\n",
       "      <td>3</td>\n",
       "      <td>Norway</td>\n",
       "      <td>7.554</td>\n",
       "      <td>1.488</td>\n",
       "      <td>1.582</td>\n",
       "      <td>1.028</td>\n",
       "      <td>0.603</td>\n",
       "      <td>0.271</td>\n",
       "      <td>0.341</td>\n",
       "    </tr>\n",
       "    <tr>\n",
       "      <th>3</th>\n",
       "      <td>4</td>\n",
       "      <td>Iceland</td>\n",
       "      <td>7.494</td>\n",
       "      <td>1.380</td>\n",
       "      <td>1.624</td>\n",
       "      <td>1.026</td>\n",
       "      <td>0.591</td>\n",
       "      <td>0.354</td>\n",
       "      <td>0.118</td>\n",
       "    </tr>\n",
       "    <tr>\n",
       "      <th>4</th>\n",
       "      <td>5</td>\n",
       "      <td>Netherlands</td>\n",
       "      <td>7.488</td>\n",
       "      <td>1.396</td>\n",
       "      <td>1.522</td>\n",
       "      <td>0.999</td>\n",
       "      <td>0.557</td>\n",
       "      <td>0.322</td>\n",
       "      <td>0.298</td>\n",
       "    </tr>\n",
       "  </tbody>\n",
       "</table>\n",
       "</div>"
      ],
      "text/plain": [
       "   Overall rank Country or region  Score  GDP per capita  Social support  \\\n",
       "0             1           Finland  7.769           1.340           1.587   \n",
       "1             2           Denmark  7.600           1.383           1.573   \n",
       "2             3            Norway  7.554           1.488           1.582   \n",
       "3             4           Iceland  7.494           1.380           1.624   \n",
       "4             5       Netherlands  7.488           1.396           1.522   \n",
       "\n",
       "   Healthy life expectancy  Freedom to make life choices  Generosity  \\\n",
       "0                    0.986                         0.596       0.153   \n",
       "1                    0.996                         0.592       0.252   \n",
       "2                    1.028                         0.603       0.271   \n",
       "3                    1.026                         0.591       0.354   \n",
       "4                    0.999                         0.557       0.322   \n",
       "\n",
       "   Perceptions of corruption  \n",
       "0                      0.393  \n",
       "1                      0.410  \n",
       "2                      0.341  \n",
       "3                      0.118  \n",
       "4                      0.298  "
      ]
     },
     "execution_count": 63,
     "metadata": {},
     "output_type": "execute_result"
    }
   ],
   "source": [
    "df_2019.head()"
   ]
  },
  {
   "cell_type": "code",
   "execution_count": 64,
   "id": "7eccf6ad-4df5-4564-b5de-9fd0bd112a20",
   "metadata": {},
   "outputs": [
    {
     "data": {
      "text/plain": [
       "(156, 9)"
      ]
     },
     "execution_count": 64,
     "metadata": {},
     "output_type": "execute_result"
    }
   ],
   "source": [
    "df_2019.shape"
   ]
  },
  {
   "cell_type": "code",
   "execution_count": 65,
   "id": "6c94a7c7-b4cb-42ec-a857-0abd46133903",
   "metadata": {},
   "outputs": [
    {
     "data": {
      "text/plain": [
       "Overall rank                    0\n",
       "Country or region               0\n",
       "Score                           0\n",
       "GDP per capita                  0\n",
       "Social support                  0\n",
       "Healthy life expectancy         0\n",
       "Freedom to make life choices    0\n",
       "Generosity                      0\n",
       "Perceptions of corruption       0\n",
       "dtype: int64"
      ]
     },
     "execution_count": 65,
     "metadata": {},
     "output_type": "execute_result"
    }
   ],
   "source": [
    "#156 rows, 9 columns\n",
    "#check for missing values\n",
    "df_2019.isnull().sum()"
   ]
  },
  {
   "cell_type": "code",
   "execution_count": 66,
   "id": "e5a1c59f-8d2c-4e72-8e20-129a1b979aa4",
   "metadata": {},
   "outputs": [
    {
     "name": "stdout",
     "output_type": "stream",
     "text": [
      "Number of duplicate rows:  0\n"
     ]
    }
   ],
   "source": [
    "#No missing values\n",
    "#all column names are consistent and well labeled\n",
    "#checking for duplicates\n",
    "duplicates = df_2019.duplicated()\n",
    "print(\"Number of duplicate rows: \", duplicates.sum())"
   ]
  },
  {
   "cell_type": "code",
   "execution_count": 67,
   "id": "5ea6f6f9-0186-4464-96e5-a1032c7bd815",
   "metadata": {},
   "outputs": [
    {
     "data": {
      "text/plain": [
       "Overall rank                      int64\n",
       "Country or region                object\n",
       "Score                           float64\n",
       "GDP per capita                  float64\n",
       "Social support                  float64\n",
       "Healthy life expectancy         float64\n",
       "Freedom to make life choices    float64\n",
       "Generosity                      float64\n",
       "Perceptions of corruption       float64\n",
       "dtype: object"
      ]
     },
     "execution_count": 67,
     "metadata": {},
     "output_type": "execute_result"
    }
   ],
   "source": [
    "#check for datatypes\n",
    "df_2019.dtypes"
   ]
  },
  {
   "cell_type": "code",
   "execution_count": 68,
   "id": "ce00ed43-5d79-4d62-bfbc-0f4ba5383023",
   "metadata": {},
   "outputs": [],
   "source": [
    "#checking for mixed column types\n",
    "for col in df_2019.columns.tolist():\n",
    "    weird = (df_2019[[col]].map(type) !=df_2019[[col]].iloc[0].apply(type)).any(axis = 1)\n",
    "    if len (df_2019[weird]) > 0:\n",
    "        print(f\"Column {col} has mixed types\")"
   ]
  },
  {
   "cell_type": "code",
   "execution_count": 69,
   "id": "dbc31cbb-6b56-4646-9cc7-a6c5fa754887",
   "metadata": {},
   "outputs": [],
   "source": [
    "#There are no mixed data types\n",
    "#checking to see if there are outliers \n",
    "# Function to detect outliers\n",
    "def detect_outliers(df_2019):\n",
    "    outliers = pd.df_2019()\n",
    "    for col in df.select_dtypes(include=[float, int]).columns:\n",
    "        Q1 = df[col].quantile(0.25)\n",
    "        Q3 = df[col].quantile(0.75)\n",
    "        IQR = Q3 - Q1\n",
    "        lower_bound = Q1 - 1.5 * IQR\n",
    "        upper_bound = Q3 + 1.5 * IQR\n",
    "        col_outliers = df[(df[col] < lower_bound) | (df[col] > upper_bound)]\n",
    "        if not col_outliers.empty:\n",
    "            outliers = outliers.append(col_outliers)\n",
    "            print(f\"Outliers detected in column {col}:\")\n",
    "            print(col_outliers)\n",
    "  \n",
    "    if outliers.empty:\n",
    "        print(\"No outliers detected.\")"
   ]
  },
  {
   "cell_type": "code",
   "execution_count": 70,
   "id": "33d45faf-cf01-4e64-8736-828df15929ab",
   "metadata": {},
   "outputs": [
    {
     "data": {
      "text/html": [
       "<div>\n",
       "<style scoped>\n",
       "    .dataframe tbody tr th:only-of-type {\n",
       "        vertical-align: middle;\n",
       "    }\n",
       "\n",
       "    .dataframe tbody tr th {\n",
       "        vertical-align: top;\n",
       "    }\n",
       "\n",
       "    .dataframe thead th {\n",
       "        text-align: right;\n",
       "    }\n",
       "</style>\n",
       "<table border=\"1\" class=\"dataframe\">\n",
       "  <thead>\n",
       "    <tr style=\"text-align: right;\">\n",
       "      <th></th>\n",
       "      <th>Overall rank</th>\n",
       "      <th>Score</th>\n",
       "      <th>GDP per capita</th>\n",
       "      <th>Social support</th>\n",
       "      <th>Healthy life expectancy</th>\n",
       "      <th>Freedom to make life choices</th>\n",
       "      <th>Generosity</th>\n",
       "      <th>Perceptions of corruption</th>\n",
       "    </tr>\n",
       "  </thead>\n",
       "  <tbody>\n",
       "    <tr>\n",
       "      <th>count</th>\n",
       "      <td>156.000000</td>\n",
       "      <td>156.000000</td>\n",
       "      <td>156.000000</td>\n",
       "      <td>156.000000</td>\n",
       "      <td>156.000000</td>\n",
       "      <td>156.000000</td>\n",
       "      <td>156.000000</td>\n",
       "      <td>156.000000</td>\n",
       "    </tr>\n",
       "    <tr>\n",
       "      <th>mean</th>\n",
       "      <td>78.500000</td>\n",
       "      <td>5.407096</td>\n",
       "      <td>0.905147</td>\n",
       "      <td>1.208814</td>\n",
       "      <td>0.725244</td>\n",
       "      <td>0.392571</td>\n",
       "      <td>0.184846</td>\n",
       "      <td>0.110603</td>\n",
       "    </tr>\n",
       "    <tr>\n",
       "      <th>std</th>\n",
       "      <td>45.177428</td>\n",
       "      <td>1.113120</td>\n",
       "      <td>0.398389</td>\n",
       "      <td>0.299191</td>\n",
       "      <td>0.242124</td>\n",
       "      <td>0.143289</td>\n",
       "      <td>0.095254</td>\n",
       "      <td>0.094538</td>\n",
       "    </tr>\n",
       "    <tr>\n",
       "      <th>min</th>\n",
       "      <td>1.000000</td>\n",
       "      <td>2.853000</td>\n",
       "      <td>0.000000</td>\n",
       "      <td>0.000000</td>\n",
       "      <td>0.000000</td>\n",
       "      <td>0.000000</td>\n",
       "      <td>0.000000</td>\n",
       "      <td>0.000000</td>\n",
       "    </tr>\n",
       "    <tr>\n",
       "      <th>25%</th>\n",
       "      <td>39.750000</td>\n",
       "      <td>4.544500</td>\n",
       "      <td>0.602750</td>\n",
       "      <td>1.055750</td>\n",
       "      <td>0.547750</td>\n",
       "      <td>0.308000</td>\n",
       "      <td>0.108750</td>\n",
       "      <td>0.047000</td>\n",
       "    </tr>\n",
       "    <tr>\n",
       "      <th>50%</th>\n",
       "      <td>78.500000</td>\n",
       "      <td>5.379500</td>\n",
       "      <td>0.960000</td>\n",
       "      <td>1.271500</td>\n",
       "      <td>0.789000</td>\n",
       "      <td>0.417000</td>\n",
       "      <td>0.177500</td>\n",
       "      <td>0.085500</td>\n",
       "    </tr>\n",
       "    <tr>\n",
       "      <th>75%</th>\n",
       "      <td>117.250000</td>\n",
       "      <td>6.184500</td>\n",
       "      <td>1.232500</td>\n",
       "      <td>1.452500</td>\n",
       "      <td>0.881750</td>\n",
       "      <td>0.507250</td>\n",
       "      <td>0.248250</td>\n",
       "      <td>0.141250</td>\n",
       "    </tr>\n",
       "    <tr>\n",
       "      <th>max</th>\n",
       "      <td>156.000000</td>\n",
       "      <td>7.769000</td>\n",
       "      <td>1.684000</td>\n",
       "      <td>1.624000</td>\n",
       "      <td>1.141000</td>\n",
       "      <td>0.631000</td>\n",
       "      <td>0.566000</td>\n",
       "      <td>0.453000</td>\n",
       "    </tr>\n",
       "  </tbody>\n",
       "</table>\n",
       "</div>"
      ],
      "text/plain": [
       "       Overall rank       Score  GDP per capita  Social support  \\\n",
       "count    156.000000  156.000000      156.000000      156.000000   \n",
       "mean      78.500000    5.407096        0.905147        1.208814   \n",
       "std       45.177428    1.113120        0.398389        0.299191   \n",
       "min        1.000000    2.853000        0.000000        0.000000   \n",
       "25%       39.750000    4.544500        0.602750        1.055750   \n",
       "50%       78.500000    5.379500        0.960000        1.271500   \n",
       "75%      117.250000    6.184500        1.232500        1.452500   \n",
       "max      156.000000    7.769000        1.684000        1.624000   \n",
       "\n",
       "       Healthy life expectancy  Freedom to make life choices  Generosity  \\\n",
       "count               156.000000                    156.000000  156.000000   \n",
       "mean                  0.725244                      0.392571    0.184846   \n",
       "std                   0.242124                      0.143289    0.095254   \n",
       "min                   0.000000                      0.000000    0.000000   \n",
       "25%                   0.547750                      0.308000    0.108750   \n",
       "50%                   0.789000                      0.417000    0.177500   \n",
       "75%                   0.881750                      0.507250    0.248250   \n",
       "max                   1.141000                      0.631000    0.566000   \n",
       "\n",
       "       Perceptions of corruption  \n",
       "count                 156.000000  \n",
       "mean                    0.110603  \n",
       "std                     0.094538  \n",
       "min                     0.000000  \n",
       "25%                     0.047000  \n",
       "50%                     0.085500  \n",
       "75%                     0.141250  \n",
       "max                     0.453000  "
      ]
     },
     "execution_count": 70,
     "metadata": {},
     "output_type": "execute_result"
    }
   ],
   "source": [
    "#descriptive statistics\n",
    "df_2019.describe()"
   ]
  },
  {
   "cell_type": "code",
   "execution_count": 71,
   "id": "6f57d587-d133-412a-87fb-f338b47efd21",
   "metadata": {},
   "outputs": [],
   "source": [
    "#Export to Prepared Data\n",
    "df_2019.to_csv(os.path.join(path, '02 Data', 'Prepared Data', 'df_2019_checked.csv'))"
   ]
  }
 ],
 "metadata": {
  "kernelspec": {
   "display_name": "Python 3 (ipykernel)",
   "language": "python",
   "name": "python3"
  },
  "language_info": {
   "codemirror_mode": {
    "name": "ipython",
    "version": 3
   },
   "file_extension": ".py",
   "mimetype": "text/x-python",
   "name": "python",
   "nbconvert_exporter": "python",
   "pygments_lexer": "ipython3",
   "version": "3.11.7"
  }
 },
 "nbformat": 4,
 "nbformat_minor": 5
}
